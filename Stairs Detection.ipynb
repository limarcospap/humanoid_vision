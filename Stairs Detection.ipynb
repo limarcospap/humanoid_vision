{
 "cells": [
  {
   "cell_type": "code",
   "execution_count": 203,
   "id": "prime-assembly",
   "metadata": {},
   "outputs": [],
   "source": [
    "import cv2\n",
    "import numpy as np"
   ]
  },
  {
   "cell_type": "code",
   "execution_count": 246,
   "id": "3bdcef2e",
   "metadata": {},
   "outputs": [],
   "source": [
    "def view_image(image):\n",
    "    cv2.namedWindow('Display', cv2.WINDOW_NORMAL)\n",
    "    cv2.imshow('Display', image)\n",
    "    cv2.waitKey(0)\n",
    "    cv2.destroyAllWindows()\n",
    "\n",
    "#Here I will get the red lines (top of the step)\n",
    "def get_red_lines(image):\n",
    "    hsv_stairs = cv2.cvtColor(image, cv2.COLOR_BGR2HSV)\n",
    "    red_low = np.array([-10,100,100])\n",
    "    red_high = np.array([10,255,255])\n",
    "    mask = cv2.inRange(hsv_stairs, red_low, red_high)\n",
    "    \n",
    "    res = cv2.bitwise_and(hsv_stairs, hsv_stairs, mask = mask)\n",
    "\n",
    "    res_bgr = cv2.cvtColor(res, cv2.COLOR_HSV2BGR)\n",
    "    res_gray = cv2.cvtColor(res_bgr, cv2.COLOR_BGR2GRAY)\n",
    "\n",
    "    edges = cv2.Canny(res_gray,50,150,apertureSize = 3)\n",
    "\n",
    "    return cv2.HoughLinesP(edges,1,np.pi/180,100,minLineLength=50,maxLineGap=10)\n",
    "\n",
    "#Here I will get all the edges of the image\n",
    "def get_all_lines(image):\n",
    "    res_gray = cv2.cvtColor(image, cv2.COLOR_BGR2GRAY)\n",
    "    edges = cv2.Canny(res_gray,50,150,apertureSize = 3)\n",
    "    return cv2.HoughLinesP(edges,1,np.pi/180,100,minLineLength=50,maxLineGap=10)\n",
    "\n",
    "#Here I will get the line equation of each line that I got on the last step\n",
    "def lines_equation(lines):\n",
    "    return list(map(lambda line : np.polyfit([line[0][0],line[0][2]], [line[0][1],line[0][3]], 1), lines))\n",
    "\n",
    "#This is for filtering all the horizontal lines\n",
    "def horizontal_lines(lines):\n",
    "    return list(filter(lambda x : abs(x[0]) < 1e-15, lines))\n",
    "\n",
    "def get_step_top(lines_filtered):\n",
    "    value = 0\n",
    "    for line in lines_filtered:\n",
    "        if line[1] - value>5:\n",
    "            value = line[1]\n",
    "    return value\n",
    "\n",
    "def get_step_bottom(lines_filtered_all, value):\n",
    "    value_2 = value\n",
    "    for line in lines_filtered_all:\n",
    "        if 1 < line[1] - value and line[1] - value < 40 and line[1]>value:\n",
    "            value_2 = line[1]\n",
    "    return value_2\n",
    "\n",
    "def draw_lines(y, image):\n",
    "    cv2.line(image, (0, y), (image.shape[1], y), (255,0,0), 2)\n",
    "    return"
   ]
  },
  {
   "cell_type": "markdown",
   "id": "313dfb22",
   "metadata": {},
   "source": [
    "Website with the humanoid camera especifications:\n",
    "\n",
    "https://www.raspberrypi.org/documentation/hardware/camera/"
   ]
  },
  {
   "cell_type": "code",
   "execution_count": 250,
   "id": "f334e444",
   "metadata": {},
   "outputs": [
    {
     "name": "stdout",
     "output_type": "stream",
     "text": [
      "Altura em pixels: 14.00\n"
     ]
    }
   ],
   "source": [
    "stairs = cv2.imread('stairs_01.jpeg')\n",
    "\n",
    "red_lines = get_red_lines(stairs)\n",
    "all_lines = get_all_lines(stairs)\n",
    "\n",
    "red_lines_equation = lines_equation(red_lines)\n",
    "all_lines_equation = lines_equation(all_lines)\n",
    "\n",
    "red_lines_horizontal = horizontal_lines(red_lines_equation)\n",
    "all_lines_horizontal = horizontal_lines(all_lines_equation)\n",
    "\n",
    "top_y = get_step_top(red_lines_horizontal)\n",
    "bottom_y = get_step_bottom(all_lines_horizontal, top_y)\n",
    "\n",
    "height_pixels = \"{:.2f}\".format(bottom_y - top_y)\n",
    "\n",
    "\n",
    "draw_lines(int(top_y), stairs)\n",
    "draw_lines(int(bottom_y), stairs)\n",
    "\n",
    "view_image(stairs)\n",
    "print(\"Altura em pixels:\", height_pixels)"
   ]
  },
  {
   "cell_type": "code",
   "execution_count": null,
   "id": "51f466f7",
   "metadata": {},
   "outputs": [],
   "source": [
    "pinhole camera model "
   ]
  }
 ],
 "metadata": {
  "kernelspec": {
   "display_name": "Python 3",
   "language": "python",
   "name": "python3"
  },
  "language_info": {
   "codemirror_mode": {
    "name": "ipython",
    "version": 3
   },
   "file_extension": ".py",
   "mimetype": "text/x-python",
   "name": "python",
   "nbconvert_exporter": "python",
   "pygments_lexer": "ipython3",
   "version": "3.8.10"
  }
 },
 "nbformat": 4,
 "nbformat_minor": 5
}
